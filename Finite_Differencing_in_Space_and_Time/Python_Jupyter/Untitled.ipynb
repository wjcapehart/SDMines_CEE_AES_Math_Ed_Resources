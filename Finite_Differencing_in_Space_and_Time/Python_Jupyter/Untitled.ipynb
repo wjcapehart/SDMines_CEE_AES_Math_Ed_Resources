{
 "cells": [
  {
   "cell_type": "code",
   "execution_count": null,
   "metadata": {},
   "outputs": [],
   "source": [
    "program hello\n",
    "print*, \"Hello Kitty, Kill Kill\"\n",
    "end"
   ]
  }
 ],
 "metadata": {
  "kernelspec": {
   "display_name": "Coarray Fortran",
   "language": "Fortran",
   "name": "coarray-fortran"
  },
  "language_info": {
   "name": ""
  }
 },
 "nbformat": 4,
 "nbformat_minor": 2
}
