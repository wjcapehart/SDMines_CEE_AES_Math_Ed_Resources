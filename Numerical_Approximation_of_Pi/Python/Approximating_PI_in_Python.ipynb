{
 "cells": [
  {
   "cell_type": "markdown",
   "metadata": {},
   "source": [
    "# Approximating Pi in Python\n",
    "\n",
    "## Introduction\n",
    "\n",
    "This is an example of working in Python using Jupyter Notebooks continuing from our classroom example with our classic pi case.\n",
    "\n",
    "This is presented in \"notebook\" form which lets you share the not just the code but also traditional text in the form of \"[Markdown](https://nbviewer.jupyter.org/github/jrjohansson/numerical-python-book-code/blob/master/ch01-Markdown.ipynb).\"   More importantly, this lets us \"serve\" this document online as an HTML web document.  R (using RStudio) and MATLAB has similar functionality.\n",
    "\n",
    "The numbered \"cells\" below are code in the Jupyter notebook.  The language can be in a number of languages but Python tends to be the most common programming environment.  The un-numbered areas are text comments and also model output (you can tell by the difference in the fonts).  Also inside the grey \"code\" area are comments shown in green with the \"#\" signs.\n",
    "\n",
    "We also will demonstrate a more detailed form of text output where you can control the number of significant figures.  \n",
    "\n",
    "If you haven't had a formal computer programming class don't panic here.  From Lecture 2 (Pseudocode), you saw that programming structures in different languages tend to have a similar \"look-n-feel\" or at least are marginally intuitive.  Try to follow along and focus on what is familiar.\n",
    "\n",
    "And away we go!  \n"
   ]
  },
  {
   "cell_type": "markdown",
   "metadata": {},
   "source": [
    "## Math Behind Approximating Pi\n",
    "\n",
    "Our approximation method here is based on the arctangent function:\n",
    "\n",
    "$$\\pi =\\int^{1}_{0} \\frac{4}{1+x^2} dx = 4\\arctan1.0 $$\n",
    "\n",
    "We wish to approximate this relationship using Reimann sums, shown here: \n",
    "\n",
    "![PI Reimann Sum](http://kyrill.ias.sdsmt.edu/wjc/eduresources/PI_Integration_Figure.png)\n",
    "\n",
    "Doing this we discretize the above integral formula so that for an increment of $\\Delta x = 1/N$,\n",
    "\n",
    "$$\\pi =\\frac{1}{N}\\sum_{i=1}^{N}   \\frac{4}{1+x^2}$$\n",
    "\n",
    "## Coding this in Python 3\n",
    "\n",
    "When implementing this in raw basic Python, we have a few things to accommodate for people who are used to other traditional languages like C or Fortran.\n",
    "\n",
    "Unlike more hardcore and sophisticated forays in to Python.  The code block below shows nothing but the most basic of math operations and loops in Python.  Nothing beyond the most standard math operators (no trig functions for example).  Nothing other than a very simple counting loop over a range of numbers.  \n",
    "\n",
    "### Math Operators\n",
    "\n",
    "Out the gate, we need to know the basic operators.  \n",
    "\n",
    "The traditional arithmetic ones are as they are in most other computing environments. +, -, *, / are pretty intuitive.\n",
    "\n",
    "The upper-level operators however, not so much:\n",
    "\n",
    "* % is the modulus operator (returning the \"remainder\" from division).\n",
    "\n",
    "* // is the floor division symbol.  which goes with the modulator.   (10 // 3 & 10 % 3 give you 3 and 1 (or 10/3 = 3r1 when taken together, \n",
    "\n",
    "* ** is used to represent raising a value to a power. (This actually goes back to the golden days of programming when the top row of the number rows didn't always have a \"^\".\n",
    "\n",
    "### A heads up on loops and \"ranges\"\n",
    "\n",
    "In the loop demonstrated below there is a quirk in python that we don't see in other languages.  This is discussed in cheeky detail at the end of this discussion.  But the [tl;dr](https://en.wiktionary.org/wiki/tl;dr#English) form of it is that when we cite \"ranges\" of numbers in Python, the start number we use for the range is *inclusive* and the end number we use for a range is *exclusive* (the next number AFTER the range is done).  It's weird and it's the hardest thing I've had to wrap my head around when working with Python.\n",
    "\n"
   ]
  },
  {
   "cell_type": "code",
   "execution_count": 1,
   "metadata": {},
   "outputs": [
    {
     "name": "stdout",
     "output_type": "stream",
     "text": [
      "n= 1 ; x =  0.0625 ; pi= 0.4980544747081712\n",
      "n= 2 ; x =  0.1875 ; pi= 0.9810733426326995\n",
      "n= 3 ; x =  0.3125 ; pi= 1.436589356867575\n",
      "n= 4 ; x =  0.4375 ; pi= 1.8562614880151158\n",
      "n= 5 ; x =  0.5625 ; pi= 2.2360834464720893\n",
      "n= 6 ; x =  0.6875 ; pi= 2.5756059928911874\n",
      "n= 7 ; x =  0.8125 ; pi= 2.876782463479423\n",
      "n= 8 ; x =  0.9375 ; pi= 3.142894729591689\n"
     ]
    }
   ],
   "source": [
    "#############################################\n",
    "#\n",
    "# Integrating Pi Using Raw Python (Version 3)\n",
    "#\n",
    "# Programming Notes for Beginners: \n",
    "#\n",
    "#   1) Loops.  In python loops and other structures\n",
    "#      are tab-intented with the end of the loop being\n",
    "#      marked, not by an \"end for\" or similar cue\n",
    "#      but just an end of the intenting.\n",
    "#\n",
    "#   2) Ranges in Python are wierd compared to more \n",
    "#      traditional languates like Fortran, C or \n",
    "#      newer languages like R.\n",
    "#\n",
    "#      The first value in a range is \"inclusive\"\n",
    "#         which in the example below has it starting\n",
    "#         at one.\n",
    "#\n",
    "#      The last value in a range (we want it to be \"N\")\n",
    "#        is *exclusive* meaning that that it will want the\n",
    "#        value at the *end* of the range - which is N+1 and \n",
    "#        *** NOT *** \"N\"  (yes, I think it's dumb too.)\n",
    "#\n",
    "#       I have a section below \"deep-diving\" into this quirk\n",
    "#\n",
    "#   3) in raw python, exponents are given in \n",
    "#      \"Fortran-style\" using two \"**'s\" rather\n",
    "#      than a single \"^\" as you see in newer languages\n",
    "#      languages like R, MATLAB, and Excel.\n",
    "#\n",
    "\n",
    "N  = 8\n",
    "h  = 1.0 / N\n",
    "pi = 0.0\n",
    "\n",
    "for n in range(1, N+1, 1):  # remember that second range value is the first integer OUTSIDE of the acutal range.  \n",
    "    x  = h * (n - 0.5)\n",
    "    pi = pi + 4.0 * h / (1.0 + x**2) \n",
    "    print(\"n=\", n, \"; x = \", x,  \"; pi=\", pi)\n",
    "\n",
    "#\n",
    "#############################################"
   ]
  },
  {
   "cell_type": "markdown",
   "metadata": {},
   "source": [
    "\n",
    "Now we are going to get fancy!\n",
    "\n",
    "## Libraries\n",
    "\n",
    "When working with Python you have access to a large number of libraries with specific tools.  Some of used by a large number of communities.  (We'll be focusing on these.)  Others are highly specialized.\n",
    "\n",
    "We can also do this and place our results into an array for printing.  For this we will need two new \"libraries\" to do this.  \n",
    "\n",
    "This is also where things get... \"interesting.\"\n",
    "\n",
    "The first library we'll explore is \"'numerical' Python\" or [\"numpy\"](https://www.numpy.org/doc/1.17/reference/index.html) which has a number of tools to do basic number-Fu such as arrays and certain numerical functions, including basic trig and math functions.\n",
    "\n",
    "The other is the [matplotlib](https://matplotlib.org) library which includes resources for making basic graphs.  If you've worked with MATLAB you will have a sense of déjà vu.  This library leverages a LOT of MATLAB's plotting syntax.\n",
    "\n",
    "One thing that often confuses beginners in Python is that libraries in Python need to be imported and it's often seen as good practice to make sure that you import them \"as\" an identifier \"variable\" such as shown below.  (This will let a user know that what you are using is not intrinsic to the basic core of Python.\n",
    "\n"
   ]
  },
  {
   "cell_type": "code",
   "execution_count": 2,
   "metadata": {},
   "outputs": [],
   "source": [
    "#############################################\n",
    "#\n",
    "# Load Python Libraries \n",
    "#\n",
    "# I'm breaking my normal swing of things and not\n",
    "#   putting library imports at the top where I \n",
    "#   like them\n",
    "#\n",
    "\n",
    "import numpy                as np\n",
    "import matplotlib.pyplot    as plt\n",
    "\n",
    "#\n",
    "#############################################"
   ]
  },
  {
   "cell_type": "markdown",
   "metadata": {},
   "source": [
    "\n",
    "## Playing with numpy\n",
    "\n",
    "\n",
    "Let's start small:\n",
    "\n",
    "To invoke a one of these functions we need to use the identifier variable (e.g., np).  For example to calculate atan(1), we would do the following.\n"
   ]
  },
  {
   "cell_type": "code",
   "execution_count": 3,
   "metadata": {},
   "outputs": [
    {
     "name": "stdout",
     "output_type": "stream",
     "text": [
      "0.7853981633974483\n"
     ]
    }
   ],
   "source": [
    "#############################################\n",
    "#\n",
    "# Calling a math function with numpy...\n",
    "#\n",
    "\n",
    "print(np.arctan(1.0))\n",
    "\n",
    "#\n",
    "#############################################"
   ]
  },
  {
   "cell_type": "markdown",
   "metadata": {},
   "source": [
    "(which if you remember is a quarter of $\\pi$)"
   ]
  },
  {
   "cell_type": "code",
   "execution_count": 4,
   "metadata": {},
   "outputs": [
    {
     "name": "stdout",
     "output_type": "stream",
     "text": [
      "3.141592653589793\n"
     ]
    }
   ],
   "source": [
    "#############################################\n",
    "#\n",
    "# Making PI with numpy\n",
    "#\n",
    "\n",
    "print(4*np.arctan(1.0))\n",
    "\n",
    "#\n",
    "#############################################"
   ]
  },
  {
   "cell_type": "markdown",
   "metadata": {},
   "source": [
    "(and while we're here -- and we're kind of throwing the game given what we're trying to demonstrate here -- we also have some classic constants that are available to us)"
   ]
  },
  {
   "cell_type": "code",
   "execution_count": 5,
   "metadata": {},
   "outputs": [
    {
     "name": "stdout",
     "output_type": "stream",
     "text": [
      "3.141592653589793\n",
      "2.718281828459045\n"
     ]
    }
   ],
   "source": [
    "#############################################\n",
    "#\n",
    "# Calling PI and \"e\" as constants with numpy\n",
    "#\n",
    "\n",
    "print(np.pi) # pi\n",
    "\n",
    "print(np.e)  # e \n",
    "\n",
    "#\n",
    "#############################################"
   ]
  },
  {
   "cell_type": "markdown",
   "metadata": {},
   "source": [
    "### Arrays in Python using Numpy (Part 1 : Making arrays)\n",
    "\n",
    "But here with numpy, what we want to do is create an \"empty\" or \"zero'ed\" 1-d array (or \"vector\") to contain our answers to PI as calcualted using various integrals of our above case example.\n",
    "\n",
    "This uses a function called [np.zeros](https://docs.scipy.org/doc/numpy/reference/generated/numpy.zeros.html).\n",
    "\n",
    "For example let's make an empty array of 20 elements and populating them with zeros.\n"
   ]
  },
  {
   "cell_type": "code",
   "execution_count": 6,
   "metadata": {},
   "outputs": [
    {
     "name": "stdout",
     "output_type": "stream",
     "text": [
      "[0. 0. 0. 0. 0. 0. 0. 0. 0. 0. 0. 0. 0. 0. 0. 0. 0. 0. 0. 0.]\n"
     ]
    }
   ],
   "source": [
    "#############################################\n",
    "#\n",
    "# Create an vector 20-cells long and put zeros \n",
    "#   in all the slots\n",
    "#\n",
    "\n",
    "pi_of_N = np.zeros(20) \n",
    "\n",
    "print(pi_of_N)\n",
    "\n",
    "#\n",
    "#############################################"
   ]
  },
  {
   "cell_type": "markdown",
   "metadata": {},
   "source": [
    "We also can create an array that goes from one value to another in equal intervals with [nd.arrange]\n",
    "\n",
    "(And while we're here, we index arrays in Python starting with 0.)\n",
    "\n",
    "Also as before the example below creates an array from 1 to 20 (not 21)."
   ]
  },
  {
   "cell_type": "code",
   "execution_count": 7,
   "metadata": {},
   "outputs": [
    {
     "name": "stdout",
     "output_type": "stream",
     "text": [
      "[ 1  2  3  4  5  6  7  8  9 10 11 12 13 14 15 16 17 18 19 20]\n",
      "2\n",
      "1\n"
     ]
    }
   ],
   "source": [
    "#############################################\n",
    "#\n",
    "# Create an vector 20-cells long and put a \n",
    "#    consecutive range of intergers in them\n",
    "#\n",
    "\n",
    "Ns_for_pi = np.arange(1, 21, 1) # the range works the \n",
    "\n",
    "print(Ns_for_pi)\n",
    "\n",
    "# also now that we are working with indexes in arrays\n",
    "#   as we earned with Mathcad, we might want to see \n",
    "#   if indexing starts at 0 or 1.\n",
    "\n",
    "# Spoilers: it's zero!\n",
    "\n",
    "print(Ns_for_pi[1]) \n",
    "\n",
    "print(Ns_for_pi[0])\n",
    "\n",
    "#\n",
    "#############################################"
   ]
  },
  {
   "cell_type": "markdown",
   "metadata": {},
   "source": [
    "# Using these arrays to make a plot of PI as a function of different numbers of Reimann Sums\n",
    "\n",
    "This will let us create a lasting record of how the calculation of $\\pi$ changes as we make tinier \n",
    "and tinier little boxes in our Reimann sums.\n",
    "\n",
    "Also look at that reference *after* the Ns_for_pi on the first line.\n",
    "\n",
    "*.size will get the size of whatever array you're asking about.\n",
    "\n",
    "Also fun fact:  Python is case-sensitive.  This means that you can have a variable called \"n\" and another variable called \"N.\"\n",
    "\n",
    "Now let's visit our earlier script.  "
   ]
  },
  {
   "cell_type": "code",
   "execution_count": 8,
   "metadata": {},
   "outputs": [
    {
     "name": "stdout",
     "output_type": "stream",
     "text": [
      "Number of Elements Ns_for_pi:  20\n",
      "\n",
      "N= 1 ; pi= 3.2\n",
      "N= 2 ; pi= 3.1623529411764704\n",
      "N= 3 ; pi= 3.150849209865603\n",
      "N= 4 ; pi= 3.1468005183939427\n",
      "N= 5 ; pi= 3.144925864003328\n",
      "N= 6 ; pi= 3.143907427222438\n",
      "N= 7 ; pi= 3.143293317527468\n",
      "N= 8 ; pi= 3.142894729591689\n",
      "N= 9 ; pi= 3.1426214565576127\n",
      "N= 10 ; pi= 3.142425985001098\n",
      "N= 11 ; pi= 3.1422813577390007\n",
      "N= 12 ; pi= 3.1421713566497966\n",
      "N= 13 ; pi= 3.142085749838525\n",
      "N= 14 ; pi= 3.1420178234025458\n",
      "N= 15 ; pi= 3.141963023791419\n",
      "N= 16 ; pi= 3.14191817430856\n",
      "N= 17 ; pi= 3.141881004144533\n",
      "N= 18 ; pi= 3.141849855179371\n",
      "N= 19 ; pi= 3.1418234938074776\n",
      "N= 20 ; pi= 3.141800986893093\n"
     ]
    }
   ],
   "source": [
    "#############################################\n",
    "#\n",
    "# Creating A Nested Loop Ensemble for Calculating\n",
    "#   PI with different numbers of iterations\n",
    "#\n",
    "\n",
    "print(\"Number of Elements Ns_for_pi: \",Ns_for_pi.size)\n",
    "print(\"\")\n",
    "\n",
    "for N in range(0, Ns_for_pi.size, 1): \n",
    "    \n",
    "    h  = 1.0 / Ns_for_pi[N]\n",
    "    pi = 0.0\n",
    "\n",
    "    for n in range(1, Ns_for_pi[N] + 1, 1):  \n",
    "        x  = h * (n - 0.5)\n",
    "        pi = pi + 4.0 * h / (1.0 + x**2) \n",
    "\n",
    "        \n",
    "    print(\"N=\", Ns_for_pi[N],\"; pi=\", pi)\n",
    "\n",
    "    pi_of_N[N] = pi\n",
    "    \n",
    "\n",
    "#\n",
    "#############################################"
   ]
  },
  {
   "cell_type": "markdown",
   "metadata": {},
   "source": [
    "To plot the results we can leverage the above matplotlib. This is one of the cases where a software package works to replicate another package to facilitate its use with little change to the public language. The syntax for the plot statement is based on Matlab's PLOT command.  [Here](https://github.com/jrjohansson/scientific-python-lectures/blob/master/Lecture-4-Matplotlib.ipynb) is a link to a tutorial on making graphs in python."
   ]
  },
  {
   "cell_type": "code",
   "execution_count": 9,
   "metadata": {},
   "outputs": [
    {
     "data": {
      "image/png": "[encoded data removed]",
      "text/plain": [
       "<Figure size 432x288 with 1 Axes>"
      ]
     },
     "metadata": {
      "needs_background": "light"
     },
     "output_type": "display_data"
    }
   ],
   "source": [
    "#############################################\n",
    "#\n",
    "# Plot a simple plot of PI calculated with\n",
    "#   different numbers of Reimann Sums.\n",
    "\n",
    "plt.plot(Ns_for_pi, pi_of_N, \"r\")\n",
    "plt.title('Estimating $\\pi$')\n",
    "plt.xlabel(\"Number of Iterations\") \n",
    "plt.ylabel(\"$\\pi$\"); \n",
    "\n",
    "#\n",
    "#############################################"
   ]
  },
  {
   "cell_type": "markdown",
   "metadata": {},
   "source": [
    "# Final Section:  On Arrays in Python (Deep Dive -- Indexing Array Ranges in Python)\n",
    "\n",
    "Remember the comments from above on how python when python loops from 0 to N it's really looping from 0 to N-1?\n",
    "\n",
    "When migrating from older languages like Fortran or C, you may be used to what is, apparently, called inclusive indexing... because for some reason there wouldn't be a need to give a such a thing specific adjective when you'd think that it wouldn't be so bloody obvious and intuitive to do it any other way.\n",
    "\n",
    "But Oh No.........\n",
    "\n",
    "Python, along with a couple other supernew languages, do something different...\n",
    "\n",
    "Let's first borrow from a commonly used language like MATLAB, or R. (let's assume that we start our indexing with 0 like Python does).\n",
    "\n",
    "```\n",
    "strawman := (/ 1, 2, 3, 4, 5 /)\n",
    "```\n",
    "\n",
    "Let's ask for the last two values...  Normally we woud intuit that it'd be ...\n",
    "\n",
    "\n",
    "```\n",
    "print( strawman(3:4) ) \n",
    "\n",
    "(/ 4, 5 /)\n",
    "```\n",
    "\n",
    "Now let's do the same thing in Python:"
   ]
  },
  {
   "cell_type": "code",
   "execution_count": 10,
   "metadata": {},
   "outputs": [
    {
     "name": "stdout",
     "output_type": "stream",
     "text": [
      "strawman[] = [1 2 3 4 5]\n"
     ]
    }
   ],
   "source": [
    "#\n",
    "# let's make a no-nonsense array\n",
    "#\n",
    "\n",
    "strawman = np.array([ 1, 2, 3, 4, 5])\n",
    "print('strawman[] =', strawman)"
   ]
  },
  {
   "cell_type": "code",
   "execution_count": 11,
   "metadata": {},
   "outputs": [
    {
     "name": "stdout",
     "output_type": "stream",
     "text": [
      "strawman[3:4] = [4]\n"
     ]
    }
   ],
   "source": [
    "#\n",
    "# and let's pull what we think should be the last two?\n",
    "#\n",
    "\n",
    "print('strawman[3:4] =', strawman[3:4])"
   ]
  },
  {
   "cell_type": "markdown",
   "metadata": {},
   "source": [
    "Whaaaa?\n",
    "OK here is what is happening when \"slicing,\" as it's called, an array in Python. Python does something that may be seen to be counterintuitve.\n",
    "the first index that is requested list or array subset is inclusive\n",
    "that measn that what you ask for is what you get. You ask for the 0 index, or in this case index #4 when starting at zero, you ask for \"3\" get that one.\n",
    "But..\n",
    "the closing index that is requested from a list or array subset is exclsuive\n",
    "so when you ask for the subset ending at #5 from zero.. it gives you... #4 from zero.\n",
    "so if you want number #5 from zero instead of typing \"4\", you type the next one... \"5\"."
   ]
  },
  {
   "cell_type": "code",
   "execution_count": 12,
   "metadata": {},
   "outputs": [
    {
     "name": "stdout",
     "output_type": "stream",
     "text": [
      "strawman[3:4+1] = [4 5]\n",
      "strawman[3:5] = [4 5]\n"
     ]
    }
   ],
   "source": [
    "#\n",
    "# so if you use the way we normally think about it...\n",
    "#\n",
    "\n",
    "print('strawman[3:4+1] =', strawman[3:4+1])\n",
    "\n",
    "# or\n",
    "\n",
    "print('strawman[3:5] =', strawman[3:5])"
   ]
  },
  {
   "cell_type": "markdown",
   "metadata": {},
   "source": [
    "If you want to go from a array value 4 to the end of the array you *could* do this.  This is similar to NCL...  but as shown here if you look closer there is a lack of consistancy of you forget that the first value *requested* is \"inclusive\", the second *requested* is exclusive."
   ]
  },
  {
   "cell_type": "code",
   "execution_count": 13,
   "metadata": {},
   "outputs": [
    {
     "name": "stdout",
     "output_type": "stream",
     "text": [
      "strawman[  3: ] = [4 5]\n",
      "strawman[  3  ] = 4\n",
      "strawman[  4  ] = 5\n",
      "strawman[  -2 ] = 4\n",
      "strawman[  -1 ] = 5\n",
      "strawman[-2:-1] = [4]\n",
      "strawman[-2:  ] = [4 5]\n"
     ]
    }
   ],
   "source": [
    "print('strawman[  3: ] =',  strawman[ 3:  ]) # second to last their way\n",
    "print('strawman[  3  ] =',  strawman[   3 ]) # second to last alone\n",
    "print('strawman[  4  ] =',  strawman[   4 ]) # last alone (first request is inclusive)\n",
    "print('strawman[  -2 ] =',  strawman[  -2 ]) # second from last\n",
    "print('strawman[  -1 ] =',  strawman[ -1  ]) # first from last first request is inclusive\n",
    "print('strawman[-2:-1] =',  strawman[-2:-1]) # the last value is exclusive\n",
    "print('strawman[-2:  ] =',  strawman[-2:  ]) # how they want you to pull the last 2."
   ]
  },
  {
   "cell_type": "markdown",
   "metadata": {},
   "source": [
    "When you [JFGI](http://lmgtfy.com/?q=why+is+the+mother-flipping+python+indexing+inclusive+for+the+first+index+then+exclusive+for+the+second) what why this is the case you get an argument from \"elegance.\"  \n",
    "\n",
    "Whatever... but still. I prefer the following addage... \n",
    "\n",
    "\"elegance is skin deep... but intuitive functionality is to the bone\""
   ]
  },
  {
   "cell_type": "markdown",
   "metadata": {},
   "source": [
    "# Even Deeper Dive! : Symbolics in Python.\n",
    "\n",
    "Yes you can do a symbolic and analytic solutions in Python.  \n",
    "\n",
    "It's a little scary at first because unlike Mathcad, when programming in a more traditional environment we don't have a more [\"WYSIWIG\"](https://en.wikipedia.org/wiki/WYSIWYG) environment.  We get a cross between being able to use \"real\" variable names like in Matchad with the one-liner typing approach in Excel.\n",
    "\n",
    "For classwork with university tablets we tend to have students use [Anaconda for Python 3](https://www.anaconda.com/distribution/) which includes the package [sympy](https://www.sympy.org/en/index.html), a symbolic solver.  \n",
    "\n",
    "You can find some examples of python-play with sympy [here](https://github.com/sympy/sympy/wiki/Quick-examples)\n",
    "\n",
    "When working with basic python, the results from sympy look \"meh.\"  However they can look rather spiffy in the Jupyter notebook framework.  \n",
    "\n",
    "Let's try this playing with pi.  For starters let's fetch the sympy library...\n"
   ]
  },
  {
   "cell_type": "code",
   "execution_count": 14,
   "metadata": {},
   "outputs": [],
   "source": [
    "################################################################\n",
    "#\n",
    "# Import SymPy (Symbolic Python) (we'll grab the functions with\n",
    "#    a prefix \"sym\")\n",
    "#\n",
    "\n",
    "import sympy as sym\n",
    "\n",
    "#\n",
    "################################################################"
   ]
  },
  {
   "cell_type": "markdown",
   "metadata": {},
   "source": [
    "Now we need to create a variable (or symbol). You can have more than one but today we will just use \"_x_\"."
   ]
  },
  {
   "cell_type": "code",
   "execution_count": 15,
   "metadata": {},
   "outputs": [],
   "source": [
    "################################################################\n",
    "#\n",
    "# Let's make a x for use in symbolic solutions\n",
    "#\n",
    "\n",
    "x = sym.symbols('x')\n",
    "\n",
    "#\n",
    "################################################################"
   ]
  },
  {
   "cell_type": "markdown",
   "metadata": {},
   "source": [
    "Now let's test this with something simple:  Let's do a very simple derivative:  \n",
    "\n",
    "$$ \\frac{d}{dx}\\left(x^2 - 3 x + 2 \\right) $$"
   ]
  },
  {
   "cell_type": "code",
   "execution_count": 16,
   "metadata": {},
   "outputs": [
    {
     "data": {
      "text/latex": [
       "$\\displaystyle 2 x - 3$"
      ],
      "text/plain": [
       "2*x - 3"
      ]
     },
     "execution_count": 16,
     "metadata": {},
     "output_type": "execute_result"
    }
   ],
   "source": [
    "\n",
    "################################################################\n",
    "#\n",
    "# Demonstrating how differentiate\n",
    "#  a very simple math function\n",
    "#\n",
    "\n",
    "sym.diff(x**2 - 3 * x + 2, x)\n",
    "\n",
    "#\n",
    "################################################################"
   ]
  },
  {
   "cell_type": "markdown",
   "metadata": {},
   "source": [
    "or this one (more relevant to what we are doing above with pi!)...\n",
    "\n",
    "$$ \\frac{d}{dx}\\left( 4  \\arctan{x} \\right) $$\n",
    "\n",
    "(Note that we need to use sympy's version of any math function that you'd otherwise use from the python library where you'd normally do your number-crunching.)"
   ]
  },
  {
   "cell_type": "code",
   "execution_count": 17,
   "metadata": {},
   "outputs": [
    {
     "data": {
      "text/latex": [
       "$\\displaystyle \\frac{4}{x^{2} + 1}$"
      ],
      "text/plain": [
       "4/(x**2 + 1)"
      ]
     },
     "execution_count": 17,
     "metadata": {},
     "output_type": "execute_result"
    }
   ],
   "source": [
    "################################################################\n",
    "#\n",
    "# Demonstrating how differentiate\n",
    "#  using a basic math function \n",
    "#\n",
    "\n",
    "sym.diff( 4 * sym.atan(x), x)\n",
    "\n",
    "#\n",
    "################################################################"
   ]
  },
  {
   "cell_type": "markdown",
   "metadata": {},
   "source": [
    "And we can integrate as well... Such as the one from our pi example.\n",
    "\n",
    "$$ \\int {\\frac{4}{1 + x^2}}dx  $$"
   ]
  },
  {
   "cell_type": "code",
   "execution_count": 18,
   "metadata": {},
   "outputs": [
    {
     "data": {
      "text/latex": [
       "$\\displaystyle 4 \\operatorname{atan}{\\left(x \\right)}$"
      ],
      "text/plain": [
       "4*atan(x)"
      ]
     },
     "execution_count": 18,
     "metadata": {},
     "output_type": "execute_result"
    }
   ],
   "source": [
    "################################################################\n",
    "#\n",
    "# Demonstrating how integrate a function \n",
    "#\n",
    "\n",
    "sym.integrate(  4 / (1 + x*x), x)\n",
    "#\n",
    "################################################################"
   ]
  },
  {
   "cell_type": "markdown",
   "metadata": {},
   "source": [
    "And we can request specific ranges for our integral!\n",
    "\n",
    "$$ \\int_{0}^{1} {\\frac{4}{1 + x^2}}dx  $$"
   ]
  },
  {
   "cell_type": "code",
   "execution_count": 19,
   "metadata": {},
   "outputs": [
    {
     "data": {
      "text/latex": [
       "$\\displaystyle \\pi$"
      ],
      "text/plain": [
       "pi"
      ]
     },
     "execution_count": 19,
     "metadata": {},
     "output_type": "execute_result"
    }
   ],
   "source": [
    "################################################################\n",
    "#\n",
    "# Demonstrating how integrate a function \n",
    "#   over a range\n",
    "#\n",
    "\n",
    "sym.integrate(  4 / (1 + x*x), (x, 0, 1) )\n",
    "\n",
    "#\n",
    "################################################################"
   ]
  },
  {
   "cell_type": "markdown",
   "metadata": {},
   "source": [
    "How about solving for root equations?  Let's try this one!\n",
    "\n",
    "$$ f(x) = x^2 - 3 x + 2 $$\n",
    "\n",
    "But remember... what do we do first? \n",
    "\n",
    "Yup, we plot it!\n",
    "\n",
    "Sympy has a separate [plotting library](https://docs.sympy.org/latest/modules/plotting.html) from matplotlib that comes in handy here... You can also zero in on your x-range in a way that is similar to the above calculus integration method!  The default, like Mathcad, is to plot x from -10 to +10.\n"
   ]
  },
  {
   "cell_type": "code",
   "execution_count": 20,
   "metadata": {},
   "outputs": [
    {
     "data": {
      "image/png": "[encoded data removed]",
      "text/plain": [
       "<Figure size 432x288 with 1 Axes>"
      ]
     },
     "metadata": {
      "needs_background": "light"
     },
     "output_type": "display_data"
    },
    {
     "data": {
      "text/plain": [
       "<sympy.plotting.plot.Plot at 0x1158e7be0>"
      ]
     },
     "execution_count": 20,
     "metadata": {},
     "output_type": "execute_result"
    }
   ],
   "source": [
    "################################################################\n",
    "#\n",
    "# Showing how to plot a function using \n",
    "#   the Sympy package (and how to plot it\n",
    "#   over a range where x is bounded between \n",
    "#   0 and 3).\n",
    "#\n",
    "\n",
    "sym.plotting.plot(x**2 - 3*x + 2, (x, 0, 3) )\n",
    "\n",
    "#\n",
    "################################################################"
   ]
  },
  {
   "cell_type": "code",
   "execution_count": 21,
   "metadata": {},
   "outputs": [
    {
     "data": {
      "text/plain": [
       "[1, 2]"
      ]
     },
     "execution_count": 21,
     "metadata": {},
     "output_type": "execute_result"
    }
   ],
   "source": [
    "################################################################\n",
    "#\n",
    "# Demonstrating the Sym.Solve Function\n",
    "#\n",
    "\n",
    "sym.solve(x**2 - 3*x + 2)\n",
    "\n",
    "#\n",
    "################################################################"
   ]
  },
  {
   "cell_type": "markdown",
   "metadata": {},
   "source": [
    "And we can have a little more fun (if you think flashbacks back to Mrs Mercer's Algebra class is \"fun.\")"
   ]
  },
  {
   "cell_type": "code",
   "execution_count": 22,
   "metadata": {},
   "outputs": [
    {
     "data": {
      "text/latex": [
       "$\\displaystyle \\left(x - 2\\right) \\left(x - 1\\right)$"
      ],
      "text/plain": [
       "(x - 2)*(x - 1)"
      ]
     },
     "execution_count": 22,
     "metadata": {},
     "output_type": "execute_result"
    }
   ],
   "source": [
    "################################################################\n",
    "#\n",
    "# Showing-off the Factoring Function\n",
    "#\n",
    "\n",
    "sym.factor(x**2 - 3*x + 2)\n",
    "\n",
    "#\n",
    "################################################################"
   ]
  },
  {
   "cell_type": "markdown",
   "metadata": {},
   "source": [
    "## Version Information\n",
    "\n",
    "Finally it's a good idea to have some kind of documentation of what version, operating system and python modules you used in your code.  This helps reviewers and future users to understand how and where you made your script, and by doing so, builds confidence in replicability."
   ]
  },
  {
   "cell_type": "code",
   "execution_count": 23,
   "metadata": {},
   "outputs": [
    {
     "data": {
      "application/json": {
       "Software versions": [
        {
         "module": "Python",
         "version": "3.7.3 64bit [Clang 11.0.0 (clang-1100.0.33.12)]"
        },
        {
         "module": "IPython",
         "version": "7.9.0"
        },
        {
         "module": "OS",
         "version": "Darwin 19.0.0 x86_64 i386 64bit"
        },
        {
         "module": "numpy",
         "version": "1.17.3"
        },
        {
         "module": "sympy",
         "version": "1.4"
        },
        {
         "module": "matplotlib",
         "version": "3.1.1"
        },
        {
         "module": "version_information",
         "version": "1.0.3"
        }
       ]
      },
      "text/html": [
       "<table><tr><th>Software</th><th>Version</th></tr><tr><td>Python</td><td>3.7.3 64bit [Clang 11.0.0 (clang-1100.0.33.12)]</td></tr><tr><td>IPython</td><td>7.9.0</td></tr><tr><td>OS</td><td>Darwin 19.0.0 x86_64 i386 64bit</td></tr><tr><td>numpy</td><td>1.17.3</td></tr><tr><td>sympy</td><td>1.4</td></tr><tr><td>matplotlib</td><td>3.1.1</td></tr><tr><td>version_information</td><td>1.0.3</td></tr><tr><td colspan='2'>Sat Nov 09 11:45:14 2019 MST</td></tr></table>"
      ],
      "text/latex": [
       "\\begin{tabular}{|l|l|}\\hline\n",
       "{\\bf Software} & {\\bf Version} \\\\ \\hline\\hline\n",
       "Python & 3.7.3 64bit [Clang 11.0.0 (clang-1100.0.33.12)] \\\\ \\hline\n",
       "IPython & 7.9.0 \\\\ \\hline\n",
       "OS & Darwin 19.0.0 x86\\_64 i386 64bit \\\\ \\hline\n",
       "numpy & 1.17.3 \\\\ \\hline\n",
       "sympy & 1.4 \\\\ \\hline\n",
       "matplotlib & 3.1.1 \\\\ \\hline\n",
       "version_information & 1.0.3 \\\\ \\hline\n",
       "\\hline \\multicolumn{2}{|l|}{Sat Nov 09 11:45:14 2019 MST} \\\\ \\hline\n",
       "\\end{tabular}\n"
      ],
      "text/plain": [
       "Software versions\n",
       "Python 3.7.3 64bit [Clang 11.0.0 (clang-1100.0.33.12)]\n",
       "IPython 7.9.0\n",
       "OS Darwin 19.0.0 x86_64 i386 64bit\n",
       "numpy 1.17.3\n",
       "sympy 1.4\n",
       "matplotlib 3.1.1\n",
       "version_information 1.0.3\n",
       "Sat Nov 09 11:45:14 2019 MST"
      ]
     },
     "execution_count": 23,
     "metadata": {},
     "output_type": "execute_result"
    }
   ],
   "source": [
    "################################################################\n",
    "#\n",
    "# Loading Version Information\n",
    "#\n",
    "\n",
    "%load_ext version_information\n",
    "%version_information numpy, sympy, matplotlib, version_information\n",
    "\n",
    "#\n",
    "################################################################"
   ]
  }
 ],
 "metadata": {
  "kernelspec": {
   "display_name": "Python 3",
   "language": "python",
   "name": "python3"
  },
  "language_info": {
   "codemirror_mode": {
    "name": "ipython",
    "version": 3
   },
   "file_extension": ".py",
   "mimetype": "text/x-python",
   "name": "python",
   "nbconvert_exporter": "python",
   "pygments_lexer": "ipython3",
   "version": "3.7.3"
  }
 },
 "nbformat": 4,
 "nbformat_minor": 2
}
