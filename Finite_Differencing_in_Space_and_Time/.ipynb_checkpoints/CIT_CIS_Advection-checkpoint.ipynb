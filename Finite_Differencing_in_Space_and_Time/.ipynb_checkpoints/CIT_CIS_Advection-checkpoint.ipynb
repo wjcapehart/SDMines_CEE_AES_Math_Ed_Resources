{
 "cells": [
  {
   "cell_type": "markdown",
   "metadata": {},
   "source": [
    "# Exploring Finite Differencing with CTCS Advection Equations in a Jupyter Notebook using *numpy* and *matplotlib*"
   ]
  },
  {
   "cell_type": "markdown",
   "metadata": {},
   "source": [
    "\n",
    "\n",
    "This exercise models the advection of a simple wave using the centered-in-time/centered-in-space (CTCS) finite-differencing scheme\n",
    "\n",
    "The user can set the certain constants and let the code do it's thing.\n",
    "\n",
    "## Python Libraries\n",
    "\n",
    "We start by loading the following libraries.  These are pretty frequently-used libraries:\n",
    "\n",
    "* [numpy](https://docs.scipy.org/doc/numpy/): Numerical Python: Package for Scientific Computing\n",
    "* [matplotlib](https://matplotlib.org): Basic Plotting Library leveraging MATLAB\n",
    "\n",
    "You will also need a few extra things for animation:\n",
    "\n",
    "* [IPython.display](https://ipython.org/ipython-doc/3/api/generated/IPython.display.html#module-IPython.display) : We will be pulling some HTML and gif generating functions\n"
   ]
  },
  {
   "cell_type": "code",
   "execution_count": 1,
   "metadata": {},
   "outputs": [],
   "source": [
    "#############################################\n",
    "#\n",
    "# Load Python Libraries Because I am use to \n",
    "# doing them up-front\n",
    "#\n",
    "\n",
    "import matplotlib.pyplot    as plt\n",
    "import numpy                as np\n",
    "\n",
    "#\n",
    "# needed for animation (in development)\n",
    "#\n",
    "\n",
    "import matplotlib.animation as animation\n",
    "import IPython.display as display\n",
    "\n",
    "#\n",
    "#############################################"
   ]
  },
  {
   "cell_type": "markdown",
   "metadata": {},
   "source": [
    "## User Modification Area\n",
    "\n",
    "The user can modify a number parameters\n",
    "\n",
    "| variable | description |\n",
    "-----------|--------------\n",
    "|nx | total grid cells |\n",
    "|total_simtime | total simulation duration in seconds |\n",
    "|U  | west-to-east wind speed in m s$^{-1}$ | \n",
    "|dx | horizontal space step in meters|\n",
    "|dt | time step in seconds\n",
    "|ndx | number of $\\Delta x$ per wave  |\n",
    "|hardwired_CFL | set to a value > 0 to set the time step to accomodate the requested CFL ($\\frac{U \\Delta t}{\\Delta x}$) value|\n",
    "|waves_per_system | number of waves running through the system |\n",
    "\n"
   ]
  },
  {
   "cell_type": "code",
   "execution_count": 2,
   "metadata": {},
   "outputs": [],
   "source": [
    "#############################################\n",
    "#\n",
    "# User Modification Area\n",
    "#\n",
    "\n",
    "#\n",
    "# set true for indivisual plots\n",
    "#\n",
    "\n",
    "make_individual_plots = False\n",
    "\n",
    "#\n",
    "# manual simulation settings\n",
    "#\n",
    "\n",
    "total_simtime = 3*3600. # units seconds\n",
    "dt            =    360. # time step\n",
    "\n",
    "nx  = 100   # total number of space steps\n",
    "dx  = 1.0e3 # x-space step: delta-x: \n",
    "\n",
    "waves_per_system = 10. # waves per system of waves\n",
    "U                = 20. # wind speed:  m s-1\n",
    "\n",
    "#\n",
    "# hardwired ndx and CFL values\n",
    "#\n",
    "\n",
    "ndx = 20  # hardwired wavelenght in delta-x's (set > 0)\n",
    "\n",
    "CFL = 0.8  # hardwired CFL (set > 0)\n",
    "\n",
    "#\n",
    "#############################################"
   ]
  },
  {
   "cell_type": "markdown",
   "metadata": {},
   "source": [
    "If the user asked to reset dt to accomodate $\\frac{U \\Delta t}{\\Delta x}$ and the other domain parameters are generated"
   ]
  },
  {
   "cell_type": "code",
   "execution_count": 3,
   "metadata": {},
   "outputs": [
    {
     "name": "stdout",
     "output_type": "stream",
     "text": [
      "Resetting dt\n",
      "Resetting L\n"
     ]
    }
   ],
   "source": [
    "#############################################\n",
    "#\n",
    "# Setting Derived Domain Parameters\n",
    "#\n",
    "\n",
    "#\n",
    "#  courant–friedrichs–lewy condition\n",
    "#\n",
    "\n",
    "if (CFL > 0):\n",
    "    print(\"Resetting dt\")\n",
    "    udtdx = CFL\n",
    "    dt    = dx / U * CFL  # time step (for simplicity make it a fraction of dx/U\n",
    "else :\n",
    "    udtdx = U*dt/dx\n",
    "    CFL   = udtdx\n",
    "\n",
    "#\n",
    "#  wavelength \n",
    "#    \n",
    "    \n",
    "if (ndx > 0) :\n",
    "    print(\"Resetting L\")\n",
    "    L                = ndx*dx  # sets L from n from n*dx \n",
    "    waves_per_system = dx*nx/L\n",
    "else :\n",
    "    L   = nx * dx / waves_per_system # wavenumber  # m\n",
    "    ndx = L / dx\n",
    "\n",
    "#\n",
    "# patching system length to fit all waves\n",
    "#\n",
    "\n",
    "if (np.mod(dx*nx,L) != 0) : \n",
    "    print(\"Resetting Circumfrence (nx)\")\n",
    "    undershoot = np.mod(dx*nx,L)\n",
    "    nx         = ((nx*dx)+(L-undershoot))/dx\n",
    "    nx         = nx.astype(int)\n",
    "\n",
    "\n",
    "    \n",
    "udtdx = U*dt/dx                 # Courant–Friedrichs–Lewy condition\n",
    "\n",
    "nt  = np.int(total_simtime / dt) # time step\n",
    "\n",
    "x   = np.arange(0.0, nx, 1.) * dx\n",
    "\n",
    "xhi = np.arange(0.0, nx*10, 1.) * dx/10.0  # x-coordinate for high-res analytic solution (for reference)\n",
    "\n",
    "#\n",
    "#############################################"
   ]
  },
  {
   "cell_type": "markdown",
   "metadata": {},
   "source": [
    "## Set up for our waves\n",
    "We how set up our wave traits \n",
    "\n",
    "Our ideal waves are represented as $h(x,t)=\\hat{h} e^{-i(kx - \\omega t)}$\n",
    "\n",
    "where...\n",
    "\n",
    "System length, $L = \\frac{n_{x} \\Delta x}{ (waves/system)}$\n",
    "  \n",
    "Wave Number $k = \\frac{2 \\pi}{L}$\n",
    "    \n",
    "Wave Frequency $\\omega = k  U = \\frac{2 \\pi U}{L} $"
   ]
  },
  {
   "cell_type": "code",
   "execution_count": 4,
   "metadata": {},
   "outputs": [],
   "source": [
    "#############################################\n",
    "#\n",
    "# Setting Wave Parameters\n",
    "#\n",
    "\n",
    "k = 2. * np.pi / L  # angular wave number # m-1\n",
    "\n",
    "w = k * U          # angular phase speed as a function of U and k # s-2 \n",
    "\n",
    "#\n",
    "#############################################"
   ]
  },
  {
   "cell_type": "markdown",
   "metadata": {},
   "source": [
    "## Von Neumann Stability Criteria\n",
    "\n",
    "We now can set up our stability criteria.  For the CTCS method they are, for the amplification error: \n",
    "\n",
    "$$\\frac{U \\Delta t}{\\Delta x} \\sin{k \\Delta t} <= 1,  $$\n",
    "\n",
    "and for the speed error:\n",
    "\n",
    "$$\\frac{ C_R } {U}= \\frac{\\omega_R}{k} =  \\frac{1}{U k \\Delta t} \\arcsin{\\left\\lvert{ \\frac{U \\Delta t}{\\Delta x} \\sin{k \\Delta t} }\\right\\rvert }$$\n",
    "\n",
    "\n"
   ]
  },
  {
   "cell_type": "code",
   "execution_count": 5,
   "metadata": {},
   "outputs": [],
   "source": [
    "#############################################\n",
    "#\n",
    "# Calculating Stability parameters\n",
    "#\n",
    " \n",
    "amplif = udtdx * np.sin(k*dx)\n",
    "\n",
    "spderr = 1./k/dt/U * np.arcsin( udtdx*np.sin(k*dx) ) \n",
    "\n",
    "#\n",
    "#############################################"
   ]
  },
  {
   "cell_type": "markdown",
   "metadata": {},
   "source": [
    "## Sketching the Stability Criteria\n",
    "\n",
    "Let's sketch those values with respect to $\\frac{U \\Delta t}{\\Delta x}$ We can use these to modify the above user-defined values to explore (and break) our wave advection calcilations.\n",
    "\n",
    "First for stability -- CTCS doesn't dampen like it does with FTBS (you are at the yellow crosshairs for this scenario, and your wave for any $U$, $\\Delta x$, and $\\Delta t$ is magenta)..."
   ]
  },
  {
   "cell_type": "code",
   "execution_count": 6,
   "metadata": {},
   "outputs": [
    {
     "data": {
      "image/png": "[encoded data removed]",
      "text/plain": [
       "<Figure size 432x288 with 1 Axes>"
      ]
     },
     "metadata": {},
     "output_type": "display_data"
    }
   ],
   "source": [
    "#############################################\n",
    "#\n",
    "# Calculating Stability Parameters for \n",
    "#   Plotting (Not for the Model)\n",
    "#\n",
    "\n",
    "UDTDX = np.arange(0.01, 1.5, 0.01)\n",
    "\n",
    "DT    = UDTDX/U*dx\n",
    "\n",
    "K4 = 2.0*np.pi/(4.0*dx)\n",
    "K6 = 2.0*np.pi/(6.0*dx)\n",
    "K8 = 2.0*np.pi/(8.0*dx)\n",
    "Kx = 2.0*np.pi/(L)\n",
    "\n",
    "\n",
    "#\n",
    "#############################################    \n",
    "\n",
    "#############################################\n",
    "#\n",
    "# Plotting Amplification\n",
    "#\n",
    "\n",
    "with plt.xkcd():\n",
    "    plt.plot(UDTDX, UDTDX * ( np.sin(K4*dx) ) , \"r\",\n",
    "             UDTDX, UDTDX * ( np.sin(K6*dx) ) , \"b\",\n",
    "             UDTDX, UDTDX * ( np.sin(K8*dx) ) , \"g\",\n",
    "             UDTDX, UDTDX * ( np.sin(Kx*dx) ) , \"m\",\n",
    "             [0.0,1.5], [1.0,1.0],             \"k:\",\n",
    "             [1.0,1.0], [0.0,2.0],             \"k:\",\n",
    "             [0.0,1.5],     [amplif,amplif],  \"y--\",\n",
    "             [udtdx,udtdx],     [0.0,2.0],    \"y--\")\n",
    "    plt.legend(('4$\\Delta$x', '6$\\Delta$x', '8$\\Delta$x','$n\\Delta$x'),\n",
    "           loc='upper left',\n",
    "           title=\"L\")\n",
    "    plt.title('Stability for CTCS')\n",
    "    plt.xlabel(r'U$\\Delta$t/$\\Delta$x') \n",
    "    plt.ylabel(r'$\\frac{U \\Delta t}{\\Delta x}$ $\\sin{k \\Delta t}$'); \n",
    "    \n",
    "#\n",
    "#############################################    "
   ]
  },
  {
   "cell_type": "markdown",
   "metadata": {},
   "source": [
    "... then for wave speed errors. (you're still at the yellow crosshair and magenta line)"
   ]
  },
  {
   "cell_type": "code",
   "execution_count": 7,
   "metadata": {
    "scrolled": true
   },
   "outputs": [
    {
     "data": {
      "text/plain": [
       "{'divide': 'ignore', 'over': 'ignore', 'under': 'ignore', 'invalid': 'ignore'}"
      ]
     },
     "execution_count": 7,
     "metadata": {},
     "output_type": "execute_result"
    },
    {
     "data": {
      "image/png": "[encoded data removed]",
      "text/plain": [
       "<Figure size 432x288 with 1 Axes>"
      ]
     },
     "metadata": {},
     "output_type": "display_data"
    }
   ],
   "source": [
    "#############################################\n",
    "#\n",
    "# Plotting Speed Errors\n",
    "#\n",
    "\n",
    "np.seterr(all='ignore') # for when the arcsin values go above |1|\n",
    "\n",
    "with plt.xkcd():\n",
    "    plt.plot(UDTDX, 1/K4/DT/U * np.arcsin( UDTDX*np.sin(K4*dx) ), \"r\",\n",
    "             UDTDX, 1/K6/DT/U * np.arcsin( UDTDX*np.sin(K6*dx) ), \"b\",\n",
    "             UDTDX, 1/K8/DT/U * np.arcsin( UDTDX*np.sin(K8*dx) ), \"g\",\n",
    "             UDTDX, 1/Kx/DT/U * np.arcsin( UDTDX*np.sin(Kx*dx) ), \"m\",\n",
    "             [0.0,1.5], [1.0,1.0],                                             \"k:\",\n",
    "             [1.0,1.0], [0.0,2.0],                                             \"k:\",\n",
    "             [0.0,1.5],      [spderr,spderr],                                  \"y--\",\n",
    "             [udtdx,udtdx],     [0.0,2.0],                                    \"y--\")\n",
    "\n",
    "    plt.legend(('4$\\Delta$x', '6$\\Delta$x', '8$\\Delta$x','$n\\Delta$x'),\n",
    "           loc='upper left',\n",
    "           title=\"L\")\n",
    "    plt.title('Phase Speed Error for CTCS')\n",
    "    plt.xlabel(r'U$\\Delta$t/$\\Delta$x') \n",
    "    plt.ylabel(r'C$_R$/U');\n",
    "    \n",
    "np.seterr(all=None)\n",
    "\n",
    "\n",
    "#\n",
    "#############################################    "
   ]
  },
  {
   "cell_type": "markdown",
   "metadata": {},
   "source": [
    "## Let's Model!\n",
    "\n",
    "Now we're ready to try to model our system. We have two ways we can do this.  One is to just plot a series of single plots of our wave with one for our time step.  The other is to animate them.  Both use most of the same code.  "
   ]
  },
  {
   "cell_type": "markdown",
   "metadata": {},
   "source": [
    "... But before we go....\n",
    "\n",
    "### \"Who is the mother-flipping flipper-mother who thought *this* was a good idea.\"\n",
    "\n",
    "When migrating from older languagtes like Fortran, C or even more \"modern\" langaugtes like NCL (which is going Python with the rest of NCAR), you may be used to what is, aparently, called inclusive indexing... because for some reason there wouldn't be a need to give a such a thing specific adjective when you'd think that it wouldn't be so bloody obvious and intuitive to do it any other way.\n",
    "\n",
    "But Oh No.........\n",
    "\n",
    "Python along with a couple other supernew language do something different...\n",
    "\n",
    "Let's first borrow from a commonly used language like MATLAB, IDL or NCL (let's assume that we start our indexing with 0 like Python does.\n",
    "\n",
    "```\n",
    "strawman := (/ 1, 2, 3, 4, 5 /)\n",
    "```\n",
    "\n",
    "Let's ask for the last two values...  Normally we woud intuit that it'd be ...\n",
    "\n",
    "\n",
    "```\n",
    "print( strawman(3:4)) \n",
    "\n",
    "(/ 4, 5 /)\n",
    "```\n",
    "\n",
    "Now let's do the same thing in Python"
   ]
  },
  {
   "cell_type": "code",
   "execution_count": 8,
   "metadata": {},
   "outputs": [
    {
     "name": "stdout",
     "output_type": "stream",
     "text": [
      "strawman[] = [1 2 3 4 5]\n"
     ]
    }
   ],
   "source": [
    "#\n",
    "# let's make a no-nonsense array\n",
    "#\n",
    "\n",
    "strawman = np.array([ 1, 2, 3, 4, 5])\n",
    "print('strawman[] =', strawman)"
   ]
  },
  {
   "cell_type": "code",
   "execution_count": 9,
   "metadata": {},
   "outputs": [
    {
     "name": "stdout",
     "output_type": "stream",
     "text": [
      "strawman[3:4] = [4]\n"
     ]
    }
   ],
   "source": [
    "#\n",
    "# and let's pull what we think should be the last two?\n",
    "#\n",
    "\n",
    "print('strawman[3:4] =', strawman[3:4])"
   ]
  },
  {
   "cell_type": "markdown",
   "metadata": {},
   "source": [
    "Whaaaa?\n",
    "\n",
    "OK here is what is happening when \"slicing,\" as it's called, an array Python does something that may be seen to be counterintuitve.  \n",
    "\n",
    "* the first index that is requested list or array subset is *inclusive*\n",
    "    * that measn that what you ask for is what you get.  You ask for the 0 index, or in this case index #4 when starting at zero, you ask for \"3\" get that one. \n",
    "    \n",
    "    \n",
    "But..\n",
    "\n",
    "* the closing index that is requested from a list or array subset is *exclsuive* \n",
    "    * so when you ask for the subset ending at #5 from zero.. it gives you... #4 from zero.\n",
    "    * so if you want number #5 from zero instead of typing \"4\", you type the next one... \"5\"."
   ]
  },
  {
   "cell_type": "code",
   "execution_count": 10,
   "metadata": {},
   "outputs": [
    {
     "name": "stdout",
     "output_type": "stream",
     "text": [
      "strawman[3:4+1] = [4 5]\n",
      "strawman[3:5] = [4 5]\n"
     ]
    }
   ],
   "source": [
    "#\n",
    "# so if you use the way we normally think about it...\n",
    "#\n",
    "\n",
    "print('strawman[3:4+1] =', strawman[3:4+1])\n",
    "\n",
    "# or\n",
    "\n",
    "print('strawman[3:5] =', strawman[3:5])"
   ]
  },
  {
   "cell_type": "markdown",
   "metadata": {},
   "source": [
    "If you want to go from a array value 4 to the end of the array you *could* do this.  This is similar to NCL...  but as shown here if you look closer there is a lack of consistancy of you forget that the first value *requested* is \"inclusive\", the second *requested* is exclusive."
   ]
  },
  {
   "cell_type": "code",
   "execution_count": 11,
   "metadata": {},
   "outputs": [
    {
     "name": "stdout",
     "output_type": "stream",
     "text": [
      "strawman[  3: ] = [4 5]\n",
      "strawman[  3  ] = 4\n",
      "strawman[  4  ] = 5\n",
      "strawman[  -2 ] = 4\n",
      "strawman[  -1 ] = 5\n",
      "strawman[-2:-1] = [4]\n",
      "strawman[-2:  ] = [4 5]\n"
     ]
    }
   ],
   "source": [
    "print('strawman[  3: ] =',  strawman[ 3:  ]) # second to last their way\n",
    "print('strawman[  3  ] =',  strawman[   3 ]) # second to last alone\n",
    "print('strawman[  4  ] =',  strawman[   4 ]) # last alone (first request is inclusive)\n",
    "print('strawman[  -2 ] =',  strawman[  -2 ]) # second from last\n",
    "print('strawman[  -1 ] =',  strawman[ -1  ]) # first from last first request is inclusive\n",
    "print('strawman[-2:-1] =',  strawman[-2:-1]) # the last value is exclusive\n",
    "print('strawman[-2:  ] =',  strawman[-2:  ]) # how they want you to pull the last 2."
   ]
  },
  {
   "cell_type": "markdown",
   "metadata": {},
   "source": [
    "To emulate what we often do to calculate gradients in bulk such as \n",
    "\n",
    "```\n",
    "ns          = 5\n",
    "delta_straw = strawman[1:nx-1] - strawman[0:nx-2]\n",
    "```\n",
    "you will want to do it *this* way:"
   ]
  },
  {
   "cell_type": "code",
   "execution_count": 12,
   "metadata": {},
   "outputs": [
    {
     "name": "stdout",
     "output_type": "stream",
     "text": [
      "gradient of strawman :  [1 1 1 1]\n"
     ]
    }
   ],
   "source": [
    "#\n",
    "# making a gradient without a loop\n",
    "#\n",
    "\n",
    "ns = 5\n",
    "\n",
    "print(\"gradient of strawman : \", (strawman[1:] - strawman[:-1]))\n",
    "\n",
    "#\n",
    "# where that -1 means one from the end.\n",
    "#"
   ]
  },
  {
   "cell_type": "markdown",
   "metadata": {},
   "source": [
    "When you [JFGI](http://lmgtfy.com/?q=why+is+the+mother-flipping+python+indexing+inclusive+for+the+first+index+then+exclusive+for+the+second) what why this is the case you get an argument from \"elegance.\"  \n",
    "\n",
    "Whatever... but still. Flip these mother-flipping flipper-mothers... \n",
    "\n",
    "\"elegance is skin deep... but intuitive functionality is to the bone\""
   ]
  },
  {
   "cell_type": "markdown",
   "metadata": {},
   "source": [
    "So let's continue"
   ]
  },
  {
   "cell_type": "markdown",
   "metadata": {},
   "source": [
    "## Finite Differencing Regime for CTCS\n",
    "\n",
    "Let's remember the formation of our CTCS calculation\n",
    "\n",
    "$\\begin{align*} \\\\\n",
    "\\frac{\\partial{h}}{\\partial{t}} &= -u\\frac{\\partial{h}}{\\partial{x}} \\\\ \\\\\n",
    "\\frac{h^{\\tau + 1}_{j} - h^{\\tau - 1}_{j} }{2 \\Delta t} &= -u \\frac{h^{\\tau}_{j+1} - h^{\\tau}_{j-1} }{2 \\Delta x} \\\\ \\\\\n",
    "h^{\\tau + 1}_{j} &=  h^{\\tau-1}_{j} - \\frac{u \\Delta t}{\\Delta x} \\big( h^{\\tau}_{j+1} - h^{\\tau}_{j-1}  \\big)\n",
    "\\end{align*}$ \n",
    "\n",
    "For our lateral boundary conditions (well, lateral is the only boundary conditions we have here since it's a 1-d model) will use a *periodic* boundary condition.  For this we calculate our horizontal gradient across at index zero (our make-belive prime meridian) by getting out $j-1$ index from the last value in the array."
   ]
  },
  {
   "cell_type": "markdown",
   "metadata": {},
   "source": [
    "### Stability Parameters\n",
    "Let's start by looking at our stability parameters"
   ]
  },
  {
   "cell_type": "code",
   "execution_count": 13,
   "metadata": {},
   "outputs": [
    {
     "name": "stdout",
     "output_type": "stream",
     "text": [
      "  Domain Circumfrence = 100.0 km\n",
      "    Simulation Period = 3.0 hr\n",
      "           Space Step = 1.0 km\n",
      "            Time Step = 40.0 sec\n",
      " number of time steps = 270 frames\n",
      "number of space steps = 100 cells\n",
      " \n",
      "        CFL Criteria = 0.8\n",
      " Stability Criteria  = 0.24721359549995792\n",
      "        Speed Error  = 0.9939366783480347\n",
      " \n",
      "                   k = 0.0003141592653589793 m-1\n",
      "               omega = 0.006283185307179586 s-1\n",
      "                   L = 20.0 km\n",
      "                L/dx = 20.0 space steps per grid cell\n",
      "           L/circumf = 5.0 waves per system\n"
     ]
    }
   ],
   "source": [
    "#############################################\n",
    "#\n",
    "# printing the resulting values\n",
    "#\n",
    "\n",
    "print('  Domain Circumfrence =', (nx * dx/1000.), \"km\")\n",
    "print('    Simulation Period =', (nt * dt/3600.), \"hr\")\n",
    "print('           Space Step =',  dx/1000., \"km\")\n",
    "print('            Time Step =',  dt, \"sec\")\n",
    "print(' number of time steps =', nt, 'frames')\n",
    "print('number of space steps =', nx, 'cells')\n",
    "\n",
    "print(' ')\n",
    "print('        CFL Criteria =', udtdx)\n",
    "print(' Stability Criteria  =', amplif)\n",
    "print('        Speed Error  =', spderr)\n",
    "print(' ')\n",
    "print('                   k =',     k, 'm-1')\n",
    "print(\"               omega =\",     w, 's-1')\n",
    "print('                   L =',     L/1000., 'km' )\n",
    "print('                L/dx =',  L/dx,    'space steps per grid cell')\n",
    "print('           L/circumf =',  dx*nx/L, 'waves per system')\n",
    "\n",
    "\n",
    "#\n",
    "############################################# "
   ]
  },
  {
   "cell_type": "markdown",
   "metadata": {},
   "source": [
    "### Plotting the results\n",
    "\n",
    "There are two ways to plot the output as presented here.  The first is to create a series of basic plots.  In this case we are using the MATLAB since that is one of the more commonly-used plotting frameworks being used in Python.  \n",
    "\n",
    "The plotting in this next section uses a simple loop to more forward in time with our CTCS finite-differencing regime for basic advection. \n",
    "\n",
    "This is pretty no-nonsense but doesn't have the spiffy look-n-feel of an animated time series of the wave changing over time."
   ]
  },
  {
   "cell_type": "code",
   "execution_count": 14,
   "metadata": {
    "scrolled": false
   },
   "outputs": [],
   "source": [
    "#############################################\n",
    "#\n",
    "# Modeling the Wave for Individual Plots\n",
    "#\n",
    "\n",
    "if (make_individual_plots) :\n",
    "\n",
    "    #\n",
    "    # loop through time steps\n",
    "    #\n",
    "\n",
    "    for tau in range(0,nt) :\n",
    "\n",
    "        t = tau*dt  # real-world time\n",
    "\n",
    "        h_an    = np.cos(k*x   - w*t) # analytic solution\n",
    "        h_an_hi = np.cos(k*xhi - w*t) # high-rez analytial solution\n",
    "\n",
    "        if (tau < 2) :\n",
    "\n",
    "            #\n",
    "            # initialize first two time steps to the analytic solution\n",
    "            #\n",
    "\n",
    "            h_tp1 = np.cos(k*x - w*(tau)*dt)   # t+1 next time step\n",
    "            h_tp0 = np.cos(k*x - w*(tau-1)*dt) #  t  current time step\n",
    "            h_tm1 = np.cos(k*x - w*(tau-2)*dt) # t-1  last time step\n",
    "\n",
    "        else :\n",
    "\n",
    "            #\n",
    "            # calculate next time step\n",
    "            #\n",
    "\n",
    "            h_tp1[0]    = h_tm1[0]    - udtdx * ( h_tp0[1]  - h_tp0[-1]  ) # periodic BCs\n",
    "            h_tp1[1:-1] = h_tm1[1:-1] - udtdx * ( h_tp0[2:] - h_tp0[:-2] )\n",
    "            h_tp1[-1]   = h_tm1[-1]   - udtdx * ( h_tp0[0]  - h_tp0[-2]  ) # periodic BCs\n",
    "            \n",
    "\n",
    "        #\n",
    "        # get current wave amplitude (since when waves are damped,\n",
    "        # it will be harder to see.\n",
    "        #\n",
    "\n",
    "        amplitutude =  (0.5 * (np.max(h_tp1) - np.min(h_tp1)))\n",
    "\n",
    "        #\n",
    "        # plot current wave solution\n",
    "        #\n",
    "        #  red dots     : finite-difference solution\n",
    "        #  cyan line    : analytic solution\n",
    "        #  magenta line ; normalized finite-difference solution \n",
    "\n",
    "        plt.plot(x/1000,   h_tp1,               \"or\",\n",
    "                 x/1000,   h_tp1 / amplitutude, \"m\",\n",
    "                 xhi/1000, h_an_hi,             \"c\")\n",
    "        plt.title('CTCS Simulation at τ = %i, t = %i s' %(tau, t) )\n",
    "        plt.ylim( -1.2, 1.2 )\n",
    "        plt.legend(('CTCS', 'CTCS(norm)', 'Analytic'),\n",
    "                   loc='upper right')\n",
    "        plt.xlabel('x (km)')\n",
    "        plt.ylabel('h')\n",
    "        plt.show()\n",
    "\n",
    "        h_tm1 = h_tp0\n",
    "        h_tp0 = h_tp1\n",
    "        h_tp1 = h_tp1*0.0\n",
    "\n",
    "#\n",
    "#############################################   "
   ]
  },
  {
   "cell_type": "markdown",
   "metadata": {},
   "source": [
    "### Implementing Animation\n",
    "\n",
    "If we wish to animate the process we will need to get fancy and a little counter intuitive.  And since we are already working in Python (and this tutorial is written for people relatively new to the Python environment) \n",
    "\n",
    "... what the heck\n",
    "\n",
    "Rather than describe what is going on here beyond a view from 30,000 feet, meatier comments are going into the acutal code\n",
    "\n",
    "But if you want a basic outline of what is happening\n",
    "\n",
    "1. create any larger time-dependant data (which we have to do here since the finite difference method is dependant on any CTCS output that comes before the current time step.\n",
    "2. create a function that will draw each \"frame.\"  It should have one argument going into it (the frame index which for us is our time index, $\\tau$.\n",
    "3. call a function to create the animation.  Ours will be [matplotlib.animation.FuncAnimation()](https://matplotlib.org/api/_as_gen/matplotlib.animation.FuncAnimation.html).\n",
    "4. Deliver the product. You can save it as an mpeg, or as a animated gif.  In our case we are embedding the anomation into the notebook (which is HTML markup).  The function we are using is [IPython.display.HTML](https://ipython.readthedocs.io/en/stable/api/generated/IPython.display.html#IPython.display.HTML) to send the animation as a _myAnimation_.to_html5_video object\n",
    "\n"
   ]
  },
  {
   "cell_type": "code",
   "execution_count": 15,
   "metadata": {},
   "outputs": [
    {
     "name": "stdout",
     "output_type": "stream",
     "text": [
      "Embedding Animation (you need to be patient here)\n"
     ]
    },
    {
     "data": {
      "image/png": "[encoded data removed]",
      "text/plain": [
       "<Figure size 432x288 with 1 Axes>"
      ]
     },
     "metadata": {
      "needs_background": "light"
     },
     "output_type": "display_data"
    }
   ],
   "source": [
    "#############################################\n",
    "#\n",
    "# Modeling the Wave for Animated Plots\n",
    "#\n",
    "\n",
    "h_fd     = np.zeros((nt,nx))  # make a all-zero 2-d array\n",
    "                              # Python is Row-Major like C or NCL\n",
    "                              # the \"fastest index\" should be the \n",
    "                              # right-most array\n",
    "\n",
    "tau      = 0         # drop a first time step \n",
    "t        = tau * dt  # for the initial conditions\n",
    "\n",
    "\n",
    "h_fd[tau,] =  np.cos(k*x   - w*t) # put the analytic solution in for \n",
    "                                  # the initial conditions\n",
    "\n",
    "    \n",
    "tau      = 1         # drop a second time step \n",
    "t        = tau * dt  # for the initial conditions\n",
    "\n",
    "\n",
    "h_fd[tau,] =  np.cos(k*x   - w*t) # put the analytic solution in for \n",
    "                                  # the initial conditions\n",
    "    \n",
    "#\n",
    "# above, we plotted as we want through the loop.  \n",
    "#\n",
    "# here, we are going to create the entire modeled solution in advance\n",
    "#\n",
    "\n",
    "for tau in range(0,nt) : # remember that 0 is inclusive but the nt is exclusive\n",
    "\n",
    "    t = tau*dt  # real-world time\n",
    "\n",
    "    if (tau < 2) :\n",
    "\n",
    "        #\n",
    "        # initialize time steps to the analytic solution\n",
    "        #\n",
    "\n",
    "        h_fd[tau,] = np.cos(k*x   - w*t) # current time sheet\n",
    "\n",
    "    else :\n",
    "\n",
    "        #\n",
    "        # calculate next time step\n",
    "        #\n",
    "\n",
    "        h_fd[tau,0]    = h_fd[tau-2,0]    - udtdx * ( h_fd[tau-1,1]  - h_fd[tau-1,-1]  )\n",
    "        h_fd[tau,1:-1] = h_fd[tau-2,1:-1] - udtdx * ( h_fd[tau-1,2:] - h_fd[tau-1,:-2] )\n",
    "        h_fd[tau,-1]   = h_fd[tau-2,-1]   - udtdx * ( h_fd[tau-1,0]  - h_fd[tau-1,-2]  )\n",
    "        \n",
    "\n",
    "#\n",
    "# here is where things get a little strange.\n",
    "#   plotting for animations is done through\n",
    "#   a function matplotlib.animation.FuncAnimation()\n",
    "#   there is an implicit loop in the function and the\n",
    "#   index for the loop is passed through a section function\n",
    "#   that generates the graph.\n",
    "#\n",
    "# we're calling this function below \"update\" and its input\n",
    "#   input argument is \"tau\" (our time step)\n",
    "# \n",
    "# the function \n",
    "#\n",
    "#   1) calculates the analytic solution (since it's\n",
    "#      not dependant on any data before hand)\n",
    "#   \n",
    "#   2) clears the plot for the \"next\" time step\n",
    "#\n",
    "#   3) plots the graph for that time step as you'd do\n",
    "#      in the above case with the series of ordinary \n",
    "#      graphs.\n",
    "#\n",
    "#   4) \"returns\" to the larger FuncAnimation() function\n",
    "#\n",
    "    \n",
    "def update(tau):\n",
    "    t = dt * tau\n",
    "    h_an_hi  = np.cos(k*xhi - w*t) # high-rez analytial solution\n",
    "    amplitutude =  (0.5 * (np.max(h_fd[tau,:]) - np.min(h_fd[tau,:])))\n",
    "\n",
    "    plt.gca().cla()  # clear the current graph (even though a sounds for axes it does everything)\n",
    "\n",
    "    plt.plot(x/1000,   h_fd[tau,:],               \"or\",\n",
    "             x/1000,   h_fd[tau,:] / amplitutude, \"m\",\n",
    "             xhi/1000, h_an_hi,                   \"c\")\n",
    "\n",
    "    plt.title('CTCS Simulation at τ = %i, t = %i s' %(tau, t) )\n",
    "    plt.legend(('CTCS', 'CTCS(norm)', 'Analytic'),\n",
    "               loc='upper right')\n",
    "    plt.ylim( -1.2, 1.2 )\n",
    "    plt.xlabel('x (km)')\n",
    "    plt.ylabel('h')\n",
    "\n",
    "#\n",
    "# before we call the function we must generate the plot \n",
    "# device (if we were in NCL).  In this case it's a set of \n",
    "# subplots\n",
    "#\n",
    "# the \"ax\" is code for an axis-based graphic\n",
    "#\n",
    "\n",
    "fig, ax = plt.subplots()\n",
    "\n",
    "#\n",
    "# and here is where we create the animation\n",
    "#\n",
    "\n",
    "ani = animation.FuncAnimation(fig,       # the graphical \"device\"\n",
    "                              update,    # the update \"function\"\n",
    "                              frames=nt) # how many frames (for us tau)\n",
    "\n",
    "#\n",
    "# finally we can drop the animation into our Jupyter notebook.\n",
    "#\n",
    "# (this takes a while)\n",
    "#\n",
    "\n",
    "print(\"Embedding Animation (you need to be patient here)\")\n",
    "\n",
    "\n",
    "display.HTML(ani.to_html5_video())\n",
    "\n",
    "ani.save(filename = './CTCS_Advection.gif', \n",
    "         writer   = 'imagemagick',\n",
    "         fps      = 60)\n",
    "\n",
    "#\n",
    "#############################################   "
   ]
  },
  {
   "cell_type": "code",
   "execution_count": null,
   "metadata": {},
   "outputs": [],
   "source": []
  }
 ],
 "metadata": {
  "kernelspec": {
   "display_name": "Python 3",
   "language": "python",
   "name": "python3"
  },
  "language_info": {
   "codemirror_mode": {
    "name": "ipython",
    "version": 3
   },
   "file_extension": ".py",
   "mimetype": "text/x-python",
   "name": "python",
   "nbconvert_exporter": "python",
   "pygments_lexer": "ipython3",
   "version": "3.7.3"
  },
  "nteract": {
   "version": "0.12.3"
  }
 },
 "nbformat": 4,
 "nbformat_minor": 2
}
