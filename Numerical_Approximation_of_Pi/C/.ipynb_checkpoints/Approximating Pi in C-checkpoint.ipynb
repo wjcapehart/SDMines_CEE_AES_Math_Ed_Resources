{
 "cells": [
  {
   "cell_type": "markdown",
   "metadata": {},
   "source": [
    "# Approximating Pi in C\n",
    "\n",
    "## Numerical Solution for Pi\n",
    "\n",
    "Our approximation method here is based on the arctangent function:\n",
    "\n",
    "$$\\pi =\\int^{1}_{0} \\frac{4}{1+x^2} dx = 4\\arctan1.0 $$\n",
    "\n",
    "We wish to approximate this relationship using Reimann sums, shown here: \n",
    "\n",
    "![PI Reimann Sum](http://kyrill.ias.sdsmt.edu/wjc/eduresources/PI_Integration_Figure.png)\n",
    "\n",
    "Doing this we discretize the above integral formula so that for an increment of $\\Delta x = 1/N$,\n",
    "\n",
    "$$\\pi =\\frac{1}{N}\\sum_{i=1}^{N}   \\frac{4}{1+x^2}$$\n",
    "\n"
   ]
  },
  {
   "cell_type": "code",
   "execution_count": 34,
   "metadata": {},
   "outputs": [
    {
     "name": "stdout",
     "output_type": "stream",
     "text": [
      "N = 1; pi = 3.200000 \n",
      "N = 2; pi = 3.162353 \n",
      "N = 3; pi = 3.150849 \n",
      "N = 4; pi = 3.146801 \n",
      "N = 5; pi = 3.144926 \n",
      "N = 6; pi = 3.143907 \n",
      "N = 7; pi = 3.143293 \n",
      "N = 8; pi = 3.142895 \n",
      "N = 9; pi = 3.142621 \n",
      "N = 10; pi = 3.142426 \n",
      "N = 11; pi = 3.142281 \n",
      "N = 12; pi = 3.142171 \n",
      "N = 13; pi = 3.142086 \n",
      "N = 14; pi = 3.142018 \n",
      "N = 15; pi = 3.141963 \n",
      "N = 16; pi = 3.141918 \n",
      "N = 17; pi = 3.141881 \n",
      "N = 18; pi = 3.141850 \n",
      "N = 19; pi = 3.141824 \n",
      "N = 20; pi = 3.141801 \n"
     ]
    },
    {
     "name": "stderr",
     "output_type": "stream",
     "text": [
      "[C kernel] Executable exited with code 21"
     ]
    }
   ],
   "source": [
    "#include <stdio.h>\n",
    "void main()\n",
    "{\n",
    "    int N;       // total number of iterations\n",
    "    int n, i;    // counter indicies \n",
    "    \n",
    "    float pi;    // pi\n",
    "    float x;     // x\n",
    "    float h;     // delta-x\n",
    "    \n",
    "    N = 20;\n",
    "  \n",
    "    for (n = 1; n <= N; n++)\n",
    "    {\n",
    "        pi = 0.0;\n",
    "        h  = 1.0 / n;\n",
    "        \n",
    "        for (i = 1; i <= n; i++)\n",
    "        {\n",
    "            x  = h * (i - 0.5);\n",
    "            pi = pi + 4.0 * h / (1.0 + x*x);\n",
    "        }\n",
    "        printf(\"N = %d; pi = %f \\n\", n, pi);\n",
    "    }\n",
    "}"
   ]
  },
  {
   "cell_type": "code",
   "execution_count": null,
   "metadata": {},
   "outputs": [],
   "source": []
  },
  {
   "cell_type": "code",
   "execution_count": null,
   "metadata": {},
   "outputs": [],
   "source": []
  },
  {
   "cell_type": "code",
   "execution_count": null,
   "metadata": {},
   "outputs": [],
   "source": []
  }
 ],
 "metadata": {
  "kernelspec": {
   "display_name": "Python 3",
   "language": "python",
   "name": "python3"
  },
  "language_info": {
   "file_extension": ".c",
   "mimetype": "text/plain",
   "name": "c"
  }
 },
 "nbformat": 4,
 "nbformat_minor": 2
}
