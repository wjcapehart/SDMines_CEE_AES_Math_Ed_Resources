{
 "cells": [
  {
   "cell_type": "code",
   "execution_count": null,
   "metadata": {},
   "outputs": [],
   "source": []
  },
  {
   "cell_type": "code",
   "execution_count": 28,
   "metadata": {},
   "outputs": [
    {
     "name": "stderr",
     "output_type": "stream",
     "text": [
      "[C kernel] Executable exited with code 21"
     ]
    }
   ],
   "source": [
    "#include <stdio.h>\n",
    "void main()\n",
    "{\n",
    "    int N;       // total number of iterations\n",
    "    int n, i;    // counter indicies \n",
    "    \n",
    "    float pi;    // pi\n",
    "    float x;     // x\n",
    "    float h;     // delta-x\n",
    "    \n",
    "    N = 20;\n",
    "  \n",
    "    for (n = 1; n <= N; n++)\n",
    "    {\n",
    "    \n",
    "        pi = 0.0;\n",
    "        h  = 1.0 / n;\n",
    "        \n",
    "        for (i = 1; i <= n; i++)\n",
    "        {\n",
    "            x  = h * (i - 0.5);\n",
    "            pi = pi + 4.0 * h / (1.0 + x*x);\n",
    "            \n",
    "            printf(\"i = %d; x = %f; pi = %f \\n\", i, pi);\n",
    "\n",
    "\n",
    "        }\n",
    "        \n",
    "        printf(\"N = %d; pi = %f \\n\\n\\n\", n, pi);\n",
    "        \n",
    "    \n",
    "    }\n",
    "    \n",
    "    \n",
    "}"
   ]
  },
  {
   "cell_type": "code",
   "execution_count": null,
   "metadata": {},
   "outputs": [],
   "source": []
  },
  {
   "cell_type": "code",
   "execution_count": null,
   "metadata": {},
   "outputs": [],
   "source": []
  },
  {
   "cell_type": "code",
   "execution_count": null,
   "metadata": {},
   "outputs": [],
   "source": []
  }
 ],
 "metadata": {
  "kernelspec": {
   "display_name": "C",
   "language": "c",
   "name": "c"
  },
  "language_info": {
   "file_extension": ".c",
   "mimetype": "text/plain",
   "name": "c"
  }
 },
 "nbformat": 4,
 "nbformat_minor": 2
}
