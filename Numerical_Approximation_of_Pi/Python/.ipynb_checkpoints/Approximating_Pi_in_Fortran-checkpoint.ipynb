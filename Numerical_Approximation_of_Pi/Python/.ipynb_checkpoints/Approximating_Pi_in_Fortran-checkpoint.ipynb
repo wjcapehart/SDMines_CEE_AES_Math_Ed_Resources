{
 "cells": [
  {
   "cell_type": "markdown",
   "metadata": {},
   "source": [
    "# Approximating Pi in [Co-array] Fortran\n",
    "\n",
    "## Numerical Solution for Pi\n",
    "\n",
    "Our approximation method here is based on the arctangent function:\n",
    "\n",
    "$$\\pi =\\int^{1}_{0} \\frac{4}{1+x^2} dx = 4\\arctan1.0 $$\n",
    "\n",
    "We wish to approximate this relationship using Reimann sums, shown here: \n",
    "\n",
    "![PI Reimann Sum](http://kyrill.ias.sdsmt.edu/wjc/eduresources/PI_Integration_Figure.png)\n",
    "\n",
    "Doing this we discretize the above integral formula so that for an increment of $\\Delta x = 1/N$,\n",
    "\n",
    "$$\\pi =\\frac{1}{N}\\sum_{i=1}^{N}   \\frac{4}{1+x^2}$$\n"
   ]
  },
  {
   "cell_type": "code",
   "execution_count": 13,
   "metadata": {},
   "outputs": [
    {
     "name": "stdout",
     "output_type": "stream",
     "text": [
      " Hello there are            2  total images\n",
      " Hello there are            2  total images\n",
      " N =            1 ; pi =    3.20000005    \n",
      " N =            2 ; pi =    3.16235304    \n",
      " N =            1 ; pi =    3.20000005    \n",
      " N =            2 ; pi =    3.16235304    \n",
      " N =            3 ; pi =    3.15084934    \n",
      " N =            4 ; pi =    3.14680052    \n",
      " N =            5 ; pi =    3.14492583    \n",
      " N =            6 ; pi =    3.14390755    \n",
      " N =            7 ; pi =    3.14329338    \n",
      " N =            8 ; pi =    3.14289498    \n",
      " N =            9 ; pi =    3.14262128    \n",
      " N =           10 ; pi =    3.14242625    \n",
      " N =           11 ; pi =    3.14228106    \n",
      " N =           12 ; pi =    3.14217162    \n",
      " N =            3 ; pi =    3.15084934    \n",
      " N =            4 ; pi =    3.14680052    \n",
      " N =            5 ; pi =    3.14492583    \n",
      " N =            6 ; pi =    3.14390755    \n",
      " N =            7 ; pi =    3.14329338    \n",
      " N =            8 ; pi =    3.14289498    \n",
      " N =            9 ; pi =    3.14262128    \n",
      " N =           10 ; pi =    3.14242625    \n",
      " N =           13 ; pi =    3.14208579    \n",
      " N =           14 ; pi =    3.14201760    \n",
      " N =           15 ; pi =    3.14196301    \n",
      " N =           16 ; pi =    3.14191842    \n",
      " N =           17 ; pi =    3.14188099    \n",
      " N =           18 ; pi =    3.14185023    \n",
      " N =           19 ; pi =    3.14182377    \n",
      " N =           20 ; pi =    3.14180088    \n",
      " N =           11 ; pi =    3.14228106    \n",
      " N =           12 ; pi =    3.14217162    \n",
      " N =           13 ; pi =    3.14208579    \n",
      " N =           14 ; pi =    3.14201760    \n",
      " N =           15 ; pi =    3.14196301    \n",
      " N =           16 ; pi =    3.14191842    \n",
      " N =           17 ; pi =    3.14188099    \n",
      " N =           18 ; pi =    3.14185023    \n",
      " N =           19 ; pi =    3.14182377    \n",
      " N =           20 ; pi =    3.14180088    \n"
     ]
    }
   ],
   "source": [
    "program pi\n",
    "\n",
    "    implicit none ! program will yell at me if you use\n",
    "                  ! an undeclared variable\n",
    "                  \n",
    "    !\n",
    "    ! Fortran and C both need to have variables\n",
    "    !   delcared before they are used\n",
    "\n",
    "    integer, parameter      :: Nruns = 20 ! a constant for the total number of tests\n",
    "\n",
    "    integer                 :: n, i   ! counting indicies for loops    \n",
    "    real                    :: x      ! our X values for the plot\n",
    "    real                    :: h      ! our delta x for our Reimann Sums\n",
    "    real                    :: est_pi ! our estimate of pi\n",
    "    \n",
    "    write(*,*) \"Hello there are \", num_images(),\" total images\"\n",
    "        \n",
    "    do n = 1, Nruns\n",
    "        \n",
    "        est_pi = 0.0\n",
    "        h      = 1. / n\n",
    "    \n",
    "        do i = 1, n\n",
    "        \n",
    "            x      = h * (i - 0.5)\n",
    "            est_pi = est_pi + h * (4 / (1 + x**2))\n",
    "        \n",
    "        end do\n",
    "        \n",
    "        print*, \"N = \", n, \"; pi = \", est_pi\n",
    "    \n",
    "    \n",
    "    end do\n",
    "    \n",
    "\n",
    "end program pi"
   ]
  },
  {
   "cell_type": "code",
   "execution_count": null,
   "metadata": {},
   "outputs": [],
   "source": []
  },
  {
   "cell_type": "code",
   "execution_count": null,
   "metadata": {},
   "outputs": [],
   "source": []
  },
  {
   "cell_type": "code",
   "execution_count": null,
   "metadata": {},
   "outputs": [],
   "source": []
  }
 ],
 "metadata": {
  "kernelspec": {
   "display_name": "Coarray Fortran",
   "language": "Fortran",
   "name": "coarray-fortran"
  },
  "language_info": {
   "file_extension": ".f90",
   "mimetype": "text/plain",
   "name": "fortran"
  }
 },
 "nbformat": 4,
 "nbformat_minor": 2
}
